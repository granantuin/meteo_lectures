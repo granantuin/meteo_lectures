{
  "nbformat": 4,
  "nbformat_minor": 0,
  "metadata": {
    "colab": {
      "name": "Kaos_law.ipynb",
      "version": "0.3.2",
      "provenance": [],
      "private_outputs": true,
      "collapsed_sections": [],
      "include_colab_link": true
    },
    "kernelspec": {
      "name": "python3",
      "display_name": "Python 3"
    }
  },
  "cells": [
    {
      "cell_type": "markdown",
      "metadata": {
        "id": "view-in-github",
        "colab_type": "text"
      },
      "source": [
        "<a href=\"https://colab.research.google.com/github/granantuin/meteo_lectures/blob/master/Kaos_law.ipynb\" target=\"_parent\"><img src=\"https://colab.research.google.com/assets/colab-badge.svg\" alt=\"Open In Colab\"/></a>"
      ]
    },
    {
      "metadata": {
        "id": "zHkdNmMlnOFF",
        "colab_type": "code",
        "colab": {}
      },
      "cell_type": "code",
      "source": [
        "import numpy as np\n",
        "import matplotlib.pyplot as plt"
      ],
      "execution_count": 0,
      "outputs": []
    },
    {
      "metadata": {
        "id": "-RyEcZ40o1ns",
        "colab_type": "code",
        "colab": {}
      },
      "cell_type": "code",
      "source": [
        "n=100000\n",
        "arr=np.random.randint(-1,2, size=n)\n",
        "arr = arr[arr != 0].cumsum()\n",
        "plt.figure(figsize=(12,10))\n",
        "plt.plot(arr)\n",
        "plt.xlabel('Flips')\n",
        "plt.ylabel('Profits/losses')\n",
        "plt.grid=True\n",
        "plt.title('Game outcome')\n",
        "plt.show()\n",
        "\n"
      ],
      "execution_count": 0,
      "outputs": []
    },
    {
      "metadata": {
        "id": "fyJbD46hFKnD",
        "colab_type": "text"
      },
      "cell_type": "markdown",
      "source": [
        " **Mathematically, the logistic map is written**\n",
        "\n",
        "\n",
        "\n",
        "\n",
        " \n",
        " ![equation](https://wikimedia.org/api/rest_v1/media/math/render/svg/ed93f3cd8504352c79c6fc9206e1e9bfac0e3c37)\n",
        "\n",
        "\n",
        "Where xn is a number between zero and one that represents the ratio of existing population to the maximum possible population. The values of interest for the parameter r (sometimes also denoted μ) are those in the interval [0,4]. This nonlinear difference equation is intended to capture two effects:\n",
        "\n",
        "\n",
        "\n",
        "1.   Reproduction where the population will increase at a rate proportional to the current population when the population size is small.\n",
        "2.  Starvation (density-dependent mortality) where the growth rate will decrease at a rate proportional to the value obtained by taking the theoretical \"carrying capacity\" of the environment less the current population.\n",
        "\n",
        "\n",
        "**\n",
        "\n",
        "\n",
        "[Logistic map](https://en.wikipedia.org/wiki/File:Logistic_map_animation.gif)\n"
      ]
    },
    {
      "metadata": {
        "id": "qBYMAs25RJSi",
        "colab_type": "code",
        "colab": {}
      },
      "cell_type": "code",
      "source": [
        "x0=.5\n",
        "x =[x0]\n",
        "num_intervals=60\n",
        "r=3.7\n",
        "for n in range(0,num_intervals):\n",
        "  x.append(r*x[-1]*(1-x[-1]))\n",
        "plt.figure(figsize=(12,10))\n",
        "plt.title('ratio of existing population to the maximum possible population')\n",
        "plt.xlabel('Years')\n",
        "plt.ylabel('Ratio 1=Max population 0=quenching')\n",
        "plt.plot(x)"
      ],
      "execution_count": 0,
      "outputs": []
    }
  ]
}