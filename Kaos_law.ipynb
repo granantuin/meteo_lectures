{
  "nbformat": 4,
  "nbformat_minor": 0,
  "metadata": {
    "colab": {
      "name": "Kaos_law.ipynb",
      "version": "0.3.2",
      "provenance": [],
      "private_outputs": true,
      "collapsed_sections": [],
      "include_colab_link": true
    },
    "kernelspec": {
      "name": "python3",
      "display_name": "Python 3"
    }
  },
  "cells": [
    {
      "cell_type": "markdown",
      "metadata": {
        "id": "view-in-github",
        "colab_type": "text"
      },
      "source": [
        "<a href=\"https://colab.research.google.com/github/granantuin/meteo_lectures/blob/master/Kaos_law.ipynb\" target=\"_parent\"><img src=\"https://colab.research.google.com/assets/colab-badge.svg\" alt=\"Open In Colab\"/></a>"
      ]
    },
    {
      "metadata": {
        "id": "zHkdNmMlnOFF",
        "colab_type": "code",
        "colab": {}
      },
      "cell_type": "code",
      "source": [
        "import numpy as np\n",
        "import matplotlib.pyplot as plt"
      ],
      "execution_count": 0,
      "outputs": []
    },
    {
      "metadata": {
        "id": "-RyEcZ40o1ns",
        "colab_type": "code",
        "colab": {}
      },
      "cell_type": "code",
      "source": [
        "n=100000\n",
        "arr=np.random.randint(-1,2, size=n)\n",
        "arr = arr[arr != 0].cumsum()\n",
        "plt.figure(figsize=(12,10))\n",
        "plt.plot(arr)\n",
        "plt.xlabel('Flips')\n",
        "plt.ylabel('Profits/losses')\n",
        "plt.grid=True\n",
        "plt.title('Game outcome')\n",
        "plt.show()\n",
        "\n"
      ],
      "execution_count": 0,
      "outputs": []
    },
    {
      "metadata": {
        "id": "fyJbD46hFKnD",
        "colab_type": "text"
      },
      "cell_type": "markdown",
      "source": [
        " **Mathematically, the logistic map is written**\n",
        "\n",
        "\n",
        "\n",
        "\n",
        " \n",
        " ![equation](https://wikimedia.org/api/rest_v1/media/math/render/svg/ed93f3cd8504352c79c6fc9206e1e9bfac0e3c37)\n",
        "\n",
        "\n",
        "Where xn is a number between zero and one that represents the ratio of existing population to the maximum possible population. The values of interest for the parameter r  are those in the interval [0,4]. This nonlinear difference equation is intended to capture two effects:\n",
        "\n",
        "\n",
        "\n",
        "1.   Reproduction where the population will increase at a rate proportional to the current population when the population size is small.\n",
        "2.  Starvation (density-dependent mortality) where the growth rate will decrease at a rate proportional to the value obtained by taking the theoretical \"carrying capacity\" of the environment less the current population.\n",
        "\n",
        "\n",
        "With r between 0 and 1, the population will eventually die, independent of the initial population.\n",
        "\n",
        "\n",
        "With r between 1 and 2, the population will quickly approach one  value, independent of the initial population.\n",
        "With r between 2 and 3, the population will also eventually approach the same value \n",
        "r − 1\n",
        "/\n",
        "r\n",
        ", but first will fluctuate around that value for some time. The rate of convergence is linear, except for r = 3, when it is dramatically slow, less than linear (see Bifurcation memory).\n",
        "With r between 3 and 1 + √6 ≈ 3.44949, from almost all initial conditions the population will approach permanent oscillations between two values. These two values are dependent on r.\n",
        "With r between 3.44949 and 3.54409 (approximately), from almost all initial conditions the population will approach permanent oscillations among four values. The latter number is a root of a 12th degree polynomial (sequence A086181 in the OEIS).\n",
        "With r increasing beyond 3.54409, from almost all initial conditions the population will approach oscillations among 8 values, then 16, 32, etc. The lengths of the parameter intervals that yield oscillations of a given length decrease rapidly; the ratio between the lengths of two successive bifurcation intervals approaches the Feigenbaum constant δ ≈ 4.66920. This behavior is an example of a period-doubling cascade.\n",
        "At r ≈ 3.56995 (sequence A098587 in the OEIS) is the onset of chaos, at the end of the period-doubling cascade. From almost all initial conditions, we no longer see oscillations of finite period. Slight variations in the initial population yield dramatically different results over time, a prime characteristic of chaos.\n",
        "Most values of r beyond 3.56995 exhibit chaotic behaviour, but there are still certain isolated ranges of r that show non-chaotic behavior; these are sometimes called islands of stability. For instance, beginning at 1 + √8[4] (approximately 3.82843) there is a range of parameters r that show oscillation among three values, and for slightly higher values of r oscillation among 6 values, then 12 etc.\n",
        "The development of the chaotic behavior of the logistic sequence as the parameter r varies from approximately 3.56995 to approximately 3.82843 is sometimes called the Pomeau–Manneville scenario, characterized by a periodic (laminar) phase interrupted by bursts of aperiodic behavior. Such a scenario has an application in semiconductor devices.[5] There are other ranges that yield oscillation among 5 values etc.; all oscillation periods occur for some values of r. A period-doubling window with parameter c is a range of r-values consisting of a succession of subranges. The kth subrange contains the values of r for which there is a stable cycle (a cycle that attracts a set of initial points of unit measure) of period 2kc. This sequence of sub-ranges is called a cascade of harmonics.[6] In a sub-range with a stable cycle of period 2k*c, there are unstable cycles of period 2kc for all k < k*. The r value at the end of the infinite sequence of sub-ranges is called the point of accumulation of the cascade of harmonics. As r rises there is a succession of new windows with different c values. The first one is for c = 1; all subsequent windows involving odd c occur in decreasing order of c starting with arbitrarily large c.[6][7]\n",
        "Beyond r = 4, almost all initial values eventually leave the interval [0,1] and diverge.\n",
        "\n",
        "\n",
        "\n",
        "\n",
        "[Logistic map](https://en.wikipedia.org/wiki/File:Logistic_map_animation.gif)\n"
      ]
    },
    {
      "metadata": {
        "id": "qBYMAs25RJSi",
        "colab_type": "code",
        "colab": {}
      },
      "cell_type": "code",
      "source": [
        "x0=.5\n",
        "x =[x0]\n",
        "num_intervals=60\n",
        "r=3\n",
        "for n in range(0,num_intervals):\n",
        "  x.append(r*x[-1]*(1-x[-1]))\n",
        "plt.figure(figsize=(12,10))\n",
        "plt.title('ratio of existing population to the maximum possible population')\n",
        "plt.xlabel('Years')\n",
        "plt.ylabel('Ratio 1=Max population 0=quenching')\n",
        "plt.plot(x)"
      ],
      "execution_count": 0,
      "outputs": []
    }
  ]
}